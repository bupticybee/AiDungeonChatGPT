{
 "cells": [
  {
   "cell_type": "code",
   "execution_count": null,
   "metadata": {
    "collapsed": true
   },
   "outputs": [],
   "source": [
    "!pip3 install revChatGPT --upgrade\n",
    "!git clone https://github.com/bupticybee/AiDungeonChatGPT.git\n",
    "!cp AiDungeonChatGPT/story.py .\n",
    "!cp AiDungeonChatGPT/config.py ."
   ]
  },
  {
   "cell_type": "code",
   "execution_count": null,
   "outputs": [],
   "source": [
    "from story import StoryTeller\n",
    "from config import config\n",
    "\n",
    "story_background = \"You are adventuring in the woods, maybe some strange things will pop out from somewhere, you hold the pistol tightly in your hand, hoping that this adventure will find some valuable things, you go deep into the woods.\""
   ],
   "metadata": {
    "collapsed": false,
    "pycharm": {
     "name": "#%%\n"
    }
   }
  },
  {
   "cell_type": "code",
   "execution_count": null,
   "outputs": [],
   "source": [
    "story_teller = StoryTeller(config,story_background)\n",
    "story_teller.interactive()"
   ],
   "metadata": {
    "collapsed": false,
    "pycharm": {
     "name": "#%%\n"
    }
   }
  }
 ],
 "metadata": {
  "kernelspec": {
   "display_name": "Python 3",
   "language": "python",
   "name": "python3"
  },
  "language_info": {
   "codemirror_mode": {
    "name": "ipython",
    "version": 2
   },
   "file_extension": ".py",
   "mimetype": "text/x-python",
   "name": "python",
   "nbconvert_exporter": "python",
   "pygments_lexer": "ipython2",
   "version": "2.7.6"
  }
 },
 "nbformat": 4,
 "nbformat_minor": 0
}